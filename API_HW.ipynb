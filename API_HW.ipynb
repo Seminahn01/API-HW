{
  "nbformat": 4,
  "nbformat_minor": 0,
  "metadata": {
    "colab": {
      "provenance": []
    },
    "kernelspec": {
      "name": "python3",
      "display_name": "Python 3"
    },
    "language_info": {
      "name": "python"
    }
  },
  "cells": [
    {
      "cell_type": "code",
      "execution_count": 1,
      "metadata": {
        "colab": {
          "base_uri": "https://localhost:8080/"
        },
        "id": "g5T9tsDjG8PA",
        "outputId": "66d9093e-ef9e-4791-9ad0-223538826d60"
      },
      "outputs": [
        {
          "output_type": "stream",
          "name": "stdout",
          "text": [
            "Requirement already satisfied: requests in /usr/local/lib/python3.10/dist-packages (2.32.3)\n",
            "Requirement already satisfied: pandas in /usr/local/lib/python3.10/dist-packages (2.1.4)\n",
            "Requirement already satisfied: matplotlib in /usr/local/lib/python3.10/dist-packages (3.7.1)\n",
            "Requirement already satisfied: charset-normalizer<4,>=2 in /usr/local/lib/python3.10/dist-packages (from requests) (3.3.2)\n",
            "Requirement already satisfied: idna<4,>=2.5 in /usr/local/lib/python3.10/dist-packages (from requests) (3.10)\n",
            "Requirement already satisfied: urllib3<3,>=1.21.1 in /usr/local/lib/python3.10/dist-packages (from requests) (2.2.3)\n",
            "Requirement already satisfied: certifi>=2017.4.17 in /usr/local/lib/python3.10/dist-packages (from requests) (2024.8.30)\n",
            "Requirement already satisfied: numpy<2,>=1.22.4 in /usr/local/lib/python3.10/dist-packages (from pandas) (1.26.4)\n",
            "Requirement already satisfied: python-dateutil>=2.8.2 in /usr/local/lib/python3.10/dist-packages (from pandas) (2.8.2)\n",
            "Requirement already satisfied: pytz>=2020.1 in /usr/local/lib/python3.10/dist-packages (from pandas) (2024.2)\n",
            "Requirement already satisfied: tzdata>=2022.1 in /usr/local/lib/python3.10/dist-packages (from pandas) (2024.1)\n",
            "Requirement already satisfied: contourpy>=1.0.1 in /usr/local/lib/python3.10/dist-packages (from matplotlib) (1.3.0)\n",
            "Requirement already satisfied: cycler>=0.10 in /usr/local/lib/python3.10/dist-packages (from matplotlib) (0.12.1)\n",
            "Requirement already satisfied: fonttools>=4.22.0 in /usr/local/lib/python3.10/dist-packages (from matplotlib) (4.53.1)\n",
            "Requirement already satisfied: kiwisolver>=1.0.1 in /usr/local/lib/python3.10/dist-packages (from matplotlib) (1.4.7)\n",
            "Requirement already satisfied: packaging>=20.0 in /usr/local/lib/python3.10/dist-packages (from matplotlib) (24.1)\n",
            "Requirement already satisfied: pillow>=6.2.0 in /usr/local/lib/python3.10/dist-packages (from matplotlib) (10.4.0)\n",
            "Requirement already satisfied: pyparsing>=2.3.1 in /usr/local/lib/python3.10/dist-packages (from matplotlib) (3.1.4)\n",
            "Requirement already satisfied: six>=1.5 in /usr/local/lib/python3.10/dist-packages (from python-dateutil>=2.8.2->pandas) (1.16.0)\n"
          ]
        }
      ],
      "source": [
        "pip install requests pandas matplotlib\n"
      ]
    },
    {
      "cell_type": "code",
      "source": [
        "import json\n",
        "import pandas as pd\n",
        "import requests\n",
        "\n",
        "\n",
        "# Get stock from the user\n",
        "stock = input(\"Enter the stock ticker symbol: \")\n",
        "\n",
        "print(\"The Stock we will research is: \" + stock)\n",
        "\n",
        "apikey = \"\"\n",
        "\n",
        "# Define the URLs for stock data and trending stocks\n",
        "url = \"https://yfapi.net/v6/finance/quote\"\n",
        "trending_url = \"https://yfapi.net/v1/finance/trending/US\"\n",
        "\n",
        "# Query parameters\n",
        "querystring = {\"symbols\": stock}\n",
        "\n",
        "# Define the headers\n",
        "headers = {\n",
        "    'x-api-key': apikey\n",
        "}\n",
        "\n",
        "# Get the stock data\n",
        "response = requests.request(\"GET\", url, headers=headers, params=querystring)\n",
        "stock_json = response.json()\n",
        "\n",
        "# Check if the response contains stock data\n",
        "if len(stock_json['quoteResponse']['result']) > 0:\n",
        "    # Extract necessary information from the JSON response\n",
        "    stock_data = stock_json['quoteResponse']['result'][0]\n",
        "    print(stock_data.get('longName', 'N/A') + \" Price: $\" + str(stock_data.get('regularMarketPrice', 'N/A')))\n",
        "\n",
        "    # Prepare the data for the CSV file\n",
        "    stock_info = {\n",
        "        \"Ticker\": stock_data.get('symbol', 'N/A'),\n",
        "        \"Full Name\": stock_data.get('longName', 'N/A'),\n",
        "        \"Current Market Price\": stock_data.get('regularMarketPrice', 'N/A'),\n",
        "        \"Target Mean Price\": stock_data.get('targetMeanPrice', 'N/A'),  # Use get() to avoid KeyError\n",
        "        \"52 Week High\": stock_data.get('fiftyTwoWeekHigh', 'N/A'),\n",
        "        \"52 Week Low\": stock_data.get('fiftyTwoWeekLow', 'N/A')\n",
        "    }\n",
        "\n",
        "    # Convert the stock data into a pandas DataFrame\n",
        "    stock_df = pd.DataFrame([stock_info])\n",
        "\n",
        "    # Save the data to a CSV file\n",
        "    stock_df.to_csv(\"stock_data.csv\", index=False)\n",
        "    print(\"Stock data saved to stock_data.csv\")\n",
        "\n",
        "    # Get trending stocks\n",
        "    trending_response = requests.request(\"GET\", trending_url, headers=headers)\n",
        "\n",
        "    # Print the raw JSON response to inspect it\n",
        "    trending_json = trending_json['finance']['result'][0].get('quotes', [])[:5]\n",
        "    print(\"\\nTrending Stocks Raw Response:\")\n",
        "    print(json.dumps(trending_json, indent=4))  # Print the entire response for debugging\n",
        "\n",
        "else:\n",
        "    print(\"No stock data found. Please check the ticker symbol or try again.\")\n"
      ],
      "metadata": {
        "colab": {
          "base_uri": "https://localhost:8080/"
        },
        "id": "roWLqDhIMD7N",
        "outputId": "99c4ea18-8fc7-4fdf-b491-22cd52388762"
      },
      "execution_count": 20,
      "outputs": [
        {
          "output_type": "stream",
          "name": "stdout",
          "text": [
            "Enter the stock ticker symbol: AAPL\n",
            "The Stock we will research is: AAPL\n",
            "Apple Inc. Price: $227.725\n",
            "Stock data saved to stock_data.csv\n",
            "\n",
            "Trending Stocks Raw Response:\n",
            "[\n",
            "    {\n",
            "        \"symbol\": \"AMSC\"\n",
            "    },\n",
            "    {\n",
            "        \"symbol\": \"PWR\"\n",
            "    },\n",
            "    {\n",
            "        \"symbol\": \"SNAP\"\n",
            "    },\n",
            "    {\n",
            "        \"symbol\": \"SOL-USD\"\n",
            "    },\n",
            "    {\n",
            "        \"symbol\": \"GC=F\"\n",
            "    }\n",
            "]\n"
          ]
        }
      ]
    }
  ]
}